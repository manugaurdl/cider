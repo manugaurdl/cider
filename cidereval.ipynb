{
 "cells": [
  {
   "cell_type": "code",
   "execution_count": 35,
   "metadata": {
    "collapsed": false
   },
   "outputs": [],
   "source": [
    "# demo script for running CIDEr\n",
    "from __future__ import absolute_import\n",
    "from __future__ import division\n",
    "from __future__ import print_function\n",
    "\n",
    "from pydataformat.loadData import LoadData\n",
    "import pdb\n",
    "import json\n",
    "from pyciderevalcap.eval import CIDErEvalCap as ciderEval\n",
    "from collections import defaultdict\n",
    "\n",
    "pathToData = 'data/'\n",
    "\n",
    "refName = 'pascal50S.json'\n",
    "candName = 'pascal_candsB.json'\n",
    "\n",
    "result_file = 'results.json'\n",
    "df_mode = 'coco-val-df'"
   ]
  },
  {
   "cell_type": "code",
   "execution_count": 36,
   "metadata": {
    "collapsed": false
   },
   "outputs": [],
   "source": [
    "# load reference and candidate sentences\n",
    "loadDat = LoadData(pathToData)\n",
    "gts, res = loadDat.readJson(refName, candName)\n",
    "\n",
    "#res = res[:100]\n",
    "#gts = {img['image_id']: gts[img['image_id']] for img in res}"
   ]
  },
  {
   "cell_type": "code",
   "execution_count": 39,
   "metadata": {},
   "outputs": [],
   "source": [
    "# for k,v in gts.items():\n",
    "#     print(k)\n",
    "#     print(v)\n",
    "#     print(len(v))\n",
    "#     break\n",
    "\n",
    "gts.keys()\n",
    "new_gts = {}\n",
    "new_gts['2008_006488.jpg'] = gts['2008_006488.jpg'] "
   ]
  },
  {
   "cell_type": "code",
   "execution_count": 44,
   "metadata": {},
   "outputs": [
    {
     "name": "stdout",
     "output_type": "stream",
     "text": [
      "{'2008_006488.jpg': [{'caption': 'Man in a boat fishing.'}, {'caption': 'a man fishing out of a canoe'}, {'caption': 'A lone fisherman in a rowboat on an empty lake.'}, {'caption': 'A person is fishing in a boat on a lake.'}, {'caption': 'A man is fishing in the river.'}, {'caption': 'A man fishing in a canoe on a lake'}, {'caption': 'A man fishes in a canoe in an empty lake'}, {'caption': 'A man in a canoe is fishing.'}, {'caption': 'A person in a canoe fishes on a lake.'}, {'caption': 'A man in his canoe fishing on the lake.'}, {'caption': 'A man is fishing in the sea by a forest.'}, {'caption': 'A person in a canoe fishing on a lake surrounded by hills.'}, {'caption': 'a man fishing in the middle of a lake in a boat'}, {'caption': 'a person fishes while sitting in a canoe on a lake'}, {'caption': 'A man in canoe fishing on a lake'}, {'caption': 'A man is fishing in a small boat on a lake.'}, {'caption': 'A man fishing alone on the lake.'}, {'caption': 'A man is fishing on a lake.'}, {'caption': 'Someone is fishing from a canoe on a lake.'}, {'caption': 'A person is fishing in the water all by themselves.'}, {'caption': 'A small boat in the middle of the lake.'}, {'caption': 'A man is fishing from a boat on a lake.'}, {'caption': 'a person fishing on a lake'}, {'caption': 'A guy is canoeing and fishing the middle of a tranquil and calm lake.'}, {'caption': 'A man is fishing alone on a small boat.'}, {'caption': 'A person is sitting in a boat on a lake.'}, {'caption': 'There is a man in the canoe.'}, {'caption': 'A man fishes from his small boat.'}, {'caption': 'A man is fishing in a boat in lake'}, {'caption': 'A man is out fishing from a canoe on a tranquil morning.'}, {'caption': 'A man is fishing from his canoe on quiet water.'}, {'caption': 'A man is fishing alone in a canoe.'}, {'caption': 'A man is fishing in a canoe on a lake.'}, {'caption': 'A man fishing off of his canoe on a lake.'}, {'caption': 'The man is fishing on a canoe'}, {'caption': 'A man is rowing a man in a river.'}, {'caption': 'A man is on a boat fishing on the lake.'}, {'caption': 'One man fishes in a small boat on the lake.'}, {'caption': 'A man in a canoe fishing in a calm lake.'}, {'caption': 'A lone man sits in a boat and fishes.'}, {'caption': 'A man on a canoe fishing near a landmass.'}, {'caption': 'A lone fisherman sits in a canoe with a pole in the water.'}, {'caption': 'A man fishing in a kayak.'}, {'caption': 'A man fishing in a canoe.'}, {'caption': 'A lone fisherman sits in his canoe on a river.'}, {'caption': 'A man in a canoe is fishing on a still lake.'}, {'caption': 'A person is fishing from a canoe.'}, {'caption': 'man fishing in a canoe'}, {'caption': 'A man fishes out of a canoe'}, {'caption': 'A man is fishing from a canoe.'}]}\n",
      "[{'image_id': '2008_006488.jpg', 'caption': 'This is a photograph of one road, one sky and one boat. The gray road is in the blue sky. The boat is within the gray road, and against the blue sky.'}, {'image_id': '2008_006488.jpg', 'caption': 'Brown dog with head on pillow on white sofa.'}, {'image_id': '2008_006488.jpg', 'caption': 'a person on a canoe on a lake'}, {'image_id': '2008_006488.jpg', 'caption': 'the boat by the road with a gray sky'}]\n"
     ]
    }
   ],
   "source": [
    "new_res = []\n",
    "for i in res:\n",
    "    if i['image_id'] == '2008_006488.jpg':\n",
    "        new_res.append(i)\n",
    "\n",
    "print(new_gts)\n",
    "print(new_res)"
   ]
  },
  {
   "cell_type": "code",
   "execution_count": 47,
   "metadata": {
    "collapsed": false
   },
   "outputs": [
    {
     "name": "stderr",
     "output_type": "stream",
     "text": [
      "PTBTokenizer tokenized 535 tokens at 5397.61 tokens per second.\n",
      "PTBTokenizer tokenized 67 tokens at 802.09 tokens per second.\n"
     ]
    }
   ],
   "source": [
    "from pyciderevalcap.ciderD.ciderD import CiderD\n",
    "from pyciderevalcap.cider.cider import Cider\n",
    "from pyciderevalcap.tokenizer.ptbtokenizer import PTBTokenizer\n",
    "\n",
    "tokenizer = PTBTokenizer('gts')\n",
    "_gts = tokenizer.tokenize(new_gts)\n",
    "tokenizer = PTBTokenizer('res')\n",
    "_res = tokenizer.tokenize(new_res)\n"
   ]
  },
  {
   "cell_type": "code",
   "execution_count": 51,
   "metadata": {},
   "outputs": [
    {
     "data": {
      "text/plain": [
       "{'2008_006488.jpg': ['man in a boat fishing',\n",
       "  'a man fishing out of a canoe',\n",
       "  'a lone fisherman in a rowboat on an empty lake',\n",
       "  'a person is fishing in a boat on a lake',\n",
       "  'a man is fishing in the river',\n",
       "  'a man fishing in a canoe on a lake',\n",
       "  'a man fishes in a canoe in an empty lake',\n",
       "  'a man in a canoe is fishing',\n",
       "  'a person in a canoe fishes on a lake',\n",
       "  'a man in his canoe fishing on the lake',\n",
       "  'a man is fishing in the sea by a forest',\n",
       "  'a person in a canoe fishing on a lake surrounded by hills',\n",
       "  'a man fishing in the middle of a lake in a boat',\n",
       "  'a person fishes while sitting in a canoe on a lake',\n",
       "  'a man in canoe fishing on a lake',\n",
       "  'a man is fishing in a small boat on a lake',\n",
       "  'a man fishing alone on the lake',\n",
       "  'a man is fishing on a lake',\n",
       "  'someone is fishing from a canoe on a lake',\n",
       "  'a person is fishing in the water all by themselves',\n",
       "  'a small boat in the middle of the lake',\n",
       "  'a man is fishing from a boat on a lake',\n",
       "  'a person fishing on a lake',\n",
       "  'a guy is canoeing and fishing the middle of a tranquil and calm lake',\n",
       "  'a man is fishing alone on a small boat',\n",
       "  'a person is sitting in a boat on a lake',\n",
       "  'there is a man in the canoe',\n",
       "  'a man fishes from his small boat',\n",
       "  'a man is fishing in a boat in lake',\n",
       "  'a man is out fishing from a canoe on a tranquil morning',\n",
       "  'a man is fishing from his canoe on quiet water',\n",
       "  'a man is fishing alone in a canoe',\n",
       "  'a man is fishing in a canoe on a lake',\n",
       "  'a man fishing off of his canoe on a lake',\n",
       "  'the man is fishing on a canoe',\n",
       "  'a man is rowing a man in a river',\n",
       "  'a man is on a boat fishing on the lake',\n",
       "  'one man fishes in a small boat on the lake',\n",
       "  'a man in a canoe fishing in a calm lake',\n",
       "  'a lone man sits in a boat and fishes',\n",
       "  'a man on a canoe fishing near a landmass',\n",
       "  'a lone fisherman sits in a canoe with a pole in the water',\n",
       "  'a man fishing in a kayak',\n",
       "  'a man fishing in a canoe',\n",
       "  'a lone fisherman sits in his canoe on a river',\n",
       "  'a man in a canoe is fishing on a still lake',\n",
       "  'a person is fishing from a canoe',\n",
       "  'man fishing in a canoe',\n",
       "  'a man fishes out of a canoe',\n",
       "  'a man is fishing from a canoe']}"
      ]
     },
     "execution_count": 51,
     "metadata": {},
     "output_type": "execute_result"
    }
   ],
   "source": [
    "_gts"
   ]
  },
  {
   "cell_type": "code",
   "execution_count": 52,
   "metadata": {},
   "outputs": [
    {
     "data": {
      "text/plain": [
       "[{'image_id': '2008_006488.jpg',\n",
       "  'caption': ['this is a photograph of one road one sky and one boat the gray road is in the blue sky the boat is within the gray road and against the blue sky']},\n",
       " {'image_id': '2008_006488.jpg',\n",
       "  'caption': ['brown dog with head on pillow on white sofa']},\n",
       " {'image_id': '2008_006488.jpg', 'caption': ['a person on a canoe on a lake']},\n",
       " {'image_id': '2008_006488.jpg',\n",
       "  'caption': ['the boat by the road with a gray sky']}]"
      ]
     },
     "execution_count": 52,
     "metadata": {},
     "output_type": "execute_result"
    }
   ],
   "source": [
    "_res"
   ]
  },
  {
   "cell_type": "code",
   "execution_count": 53,
   "metadata": {},
   "outputs": [
    {
     "data": {
      "text/plain": [
       "[{'image_id': '2008_006488.jpg',\n",
       "  'caption': 'This is a photograph of one road, one sky and one boat. The gray road is in the blue sky. The boat is within the gray road, and against the blue sky.'},\n",
       " {'image_id': '2008_006488.jpg',\n",
       "  'caption': 'Brown dog with head on pillow on white sofa.'},\n",
       " {'image_id': '2008_006488.jpg', 'caption': 'a person on a canoe on a lake'},\n",
       " {'image_id': '2008_006488.jpg',\n",
       "  'caption': 'the boat by the road with a gray sky'}]"
      ]
     },
     "execution_count": 53,
     "metadata": {},
     "output_type": "execute_result"
    }
   ],
   "source": [
    "new_res"
   ]
  },
  {
   "cell_type": "code",
   "execution_count": 54,
   "metadata": {
    "collapsed": true
   },
   "outputs": [],
   "source": [
    "scorer = Cider(df='coco-val')\n",
    "scorerD = CiderD(df='coco-val')"
   ]
  },
  {
   "cell_type": "code",
   "execution_count": 55,
   "metadata": {
    "collapsed": false
   },
   "outputs": [
    {
     "name": "stdout",
     "output_type": "stream",
     "text": [
      "0.4931362734419217\n",
      "0.4349636973242309\n"
     ]
    }
   ],
   "source": [
    "score, scores = scorer.compute_score(_gts, _res)\n",
    "scoreD, scoresD = scorerD.compute_score(_gts, _res)\n",
    "print(score)\n",
    "print(scoreD)"
   ]
  },
  {
   "cell_type": "code",
   "execution_count": null,
   "metadata": {
    "collapsed": true
   },
   "outputs": [],
   "source": []
  },
  {
   "cell_type": "code",
   "execution_count": null,
   "metadata": {
    "collapsed": true
   },
   "outputs": [],
   "source": []
  }
 ],
 "metadata": {
  "anaconda-cloud": {},
  "kernelspec": {
   "display_name": "clip_prefix_caption",
   "language": "python",
   "name": "python3"
  },
  "language_info": {
   "codemirror_mode": {
    "name": "ipython",
    "version": 3
   },
   "file_extension": ".py",
   "mimetype": "text/x-python",
   "name": "python",
   "nbconvert_exporter": "python",
   "pygments_lexer": "ipython3",
   "version": "3.9.18"
  }
 },
 "nbformat": 4,
 "nbformat_minor": 0
}
